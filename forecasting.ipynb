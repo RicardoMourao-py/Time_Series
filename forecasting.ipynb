{
 "cells": [
  {
   "cell_type": "code",
   "execution_count": 2,
   "id": "6cb512e9",
   "metadata": {},
   "outputs": [],
   "source": [
    "import pandas as pd\n",
    "from sklearn.linear_model import LinearRegression"
   ]
  },
  {
   "cell_type": "code",
   "execution_count": 57,
   "id": "0cf193d4",
   "metadata": {},
   "outputs": [
    {
     "data": {
      "text/html": [
       "<div>\n",
       "<style scoped>\n",
       "    .dataframe tbody tr th:only-of-type {\n",
       "        vertical-align: middle;\n",
       "    }\n",
       "\n",
       "    .dataframe tbody tr th {\n",
       "        vertical-align: top;\n",
       "    }\n",
       "\n",
       "    .dataframe thead th {\n",
       "        text-align: right;\n",
       "    }\n",
       "</style>\n",
       "<table border=\"1\" class=\"dataframe\">\n",
       "  <thead>\n",
       "    <tr style=\"text-align: right;\">\n",
       "      <th></th>\n",
       "      <th>date</th>\n",
       "      <th>id</th>\n",
       "      <th>feature 1</th>\n",
       "      <th>feature 2</th>\n",
       "      <th>feature 3</th>\n",
       "      <th>feature 4</th>\n",
       "      <th>feature 5</th>\n",
       "      <th>price</th>\n",
       "    </tr>\n",
       "  </thead>\n",
       "  <tbody>\n",
       "    <tr>\n",
       "      <th>0</th>\n",
       "      <td>2008-01-02</td>\n",
       "      <td>4</td>\n",
       "      <td>0.389787</td>\n",
       "      <td>21.523497</td>\n",
       "      <td>0.856748</td>\n",
       "      <td>0.020325</td>\n",
       "      <td>0.479896</td>\n",
       "      <td>2.548581</td>\n",
       "    </tr>\n",
       "    <tr>\n",
       "      <th>1</th>\n",
       "      <td>2008-01-02</td>\n",
       "      <td>13</td>\n",
       "      <td>0.304464</td>\n",
       "      <td>25.050797</td>\n",
       "      <td>1.066449</td>\n",
       "      <td>0.026167</td>\n",
       "      <td>0.906107</td>\n",
       "      <td>12.398867</td>\n",
       "    </tr>\n",
       "    <tr>\n",
       "      <th>2</th>\n",
       "      <td>2008-01-02</td>\n",
       "      <td>16</td>\n",
       "      <td>0.286285</td>\n",
       "      <td>25.348670</td>\n",
       "      <td>1.057575</td>\n",
       "      <td>0.023703</td>\n",
       "      <td>0.865998</td>\n",
       "      <td>6.073862</td>\n",
       "    </tr>\n",
       "    <tr>\n",
       "      <th>3</th>\n",
       "      <td>2008-01-02</td>\n",
       "      <td>17</td>\n",
       "      <td>0.286285</td>\n",
       "      <td>25.348670</td>\n",
       "      <td>1.110816</td>\n",
       "      <td>0.023482</td>\n",
       "      <td>0.882636</td>\n",
       "      <td>6.619800</td>\n",
       "    </tr>\n",
       "    <tr>\n",
       "      <th>4</th>\n",
       "      <td>2008-01-02</td>\n",
       "      <td>18</td>\n",
       "      <td>0.885572</td>\n",
       "      <td>19.296083</td>\n",
       "      <td>NaN</td>\n",
       "      <td>0.026838</td>\n",
       "      <td>0.453876</td>\n",
       "      <td>79.256486</td>\n",
       "    </tr>\n",
       "    <tr>\n",
       "      <th>...</th>\n",
       "      <td>...</td>\n",
       "      <td>...</td>\n",
       "      <td>...</td>\n",
       "      <td>...</td>\n",
       "      <td>...</td>\n",
       "      <td>...</td>\n",
       "      <td>...</td>\n",
       "      <td>...</td>\n",
       "    </tr>\n",
       "    <tr>\n",
       "      <th>871240</th>\n",
       "      <td>2018-12-28</td>\n",
       "      <td>654</td>\n",
       "      <td>4.071139</td>\n",
       "      <td>19.205802</td>\n",
       "      <td>1.117528</td>\n",
       "      <td>0.018332</td>\n",
       "      <td>0.563442</td>\n",
       "      <td>3.386075</td>\n",
       "    </tr>\n",
       "    <tr>\n",
       "      <th>871241</th>\n",
       "      <td>2018-12-28</td>\n",
       "      <td>708</td>\n",
       "      <td>1.132675</td>\n",
       "      <td>20.763521</td>\n",
       "      <td>NaN</td>\n",
       "      <td>0.027609</td>\n",
       "      <td>0.186301</td>\n",
       "      <td>4.150097</td>\n",
       "    </tr>\n",
       "    <tr>\n",
       "      <th>871242</th>\n",
       "      <td>2018-12-28</td>\n",
       "      <td>88</td>\n",
       "      <td>18.585107</td>\n",
       "      <td>14.133357</td>\n",
       "      <td>NaN</td>\n",
       "      <td>NaN</td>\n",
       "      <td>0.258271</td>\n",
       "      <td>2.497500</td>\n",
       "    </tr>\n",
       "    <tr>\n",
       "      <th>871243</th>\n",
       "      <td>2018-12-28</td>\n",
       "      <td>808</td>\n",
       "      <td>0.314557</td>\n",
       "      <td>24.122478</td>\n",
       "      <td>1.170811</td>\n",
       "      <td>0.015748</td>\n",
       "      <td>0.869693</td>\n",
       "      <td>20.178172</td>\n",
       "    </tr>\n",
       "    <tr>\n",
       "      <th>871244</th>\n",
       "      <td>2018-12-28</td>\n",
       "      <td>806</td>\n",
       "      <td>0.855277</td>\n",
       "      <td>21.443838</td>\n",
       "      <td>1.021702</td>\n",
       "      <td>0.012099</td>\n",
       "      <td>0.140593</td>\n",
       "      <td>7.710573</td>\n",
       "    </tr>\n",
       "  </tbody>\n",
       "</table>\n",
       "<p>871245 rows × 8 columns</p>\n",
       "</div>"
      ],
      "text/plain": [
       "              date   id  feature 1  feature 2  feature 3  feature 4  \\\n",
       "0       2008-01-02    4   0.389787  21.523497   0.856748   0.020325   \n",
       "1       2008-01-02   13   0.304464  25.050797   1.066449   0.026167   \n",
       "2       2008-01-02   16   0.286285  25.348670   1.057575   0.023703   \n",
       "3       2008-01-02   17   0.286285  25.348670   1.110816   0.023482   \n",
       "4       2008-01-02   18   0.885572  19.296083        NaN   0.026838   \n",
       "...            ...  ...        ...        ...        ...        ...   \n",
       "871240  2018-12-28  654   4.071139  19.205802   1.117528   0.018332   \n",
       "871241  2018-12-28  708   1.132675  20.763521        NaN   0.027609   \n",
       "871242  2018-12-28   88  18.585107  14.133357        NaN        NaN   \n",
       "871243  2018-12-28  808   0.314557  24.122478   1.170811   0.015748   \n",
       "871244  2018-12-28  806   0.855277  21.443838   1.021702   0.012099   \n",
       "\n",
       "        feature 5      price  \n",
       "0        0.479896   2.548581  \n",
       "1        0.906107  12.398867  \n",
       "2        0.865998   6.073862  \n",
       "3        0.882636   6.619800  \n",
       "4        0.453876  79.256486  \n",
       "...           ...        ...  \n",
       "871240   0.563442   3.386075  \n",
       "871241   0.186301   4.150097  \n",
       "871242   0.258271   2.497500  \n",
       "871243   0.869693  20.178172  \n",
       "871244   0.140593   7.710573  \n",
       "\n",
       "[871245 rows x 8 columns]"
      ]
     },
     "execution_count": 57,
     "metadata": {},
     "output_type": "execute_result"
    }
   ],
   "source": [
    "# carrega os dados em um DataFrame do pandas\n",
    "dados = pd.read_csv('exercise_data.csv')\n",
    "dados"
   ]
  },
  {
   "cell_type": "code",
   "execution_count": 58,
   "id": "48b100a2",
   "metadata": {},
   "outputs": [],
   "source": [
    "# retirando linhas nulas\n",
    "dados.dropna(inplace=True)"
   ]
  },
  {
   "cell_type": "code",
   "execution_count": 52,
   "id": "c398890d",
   "metadata": {},
   "outputs": [],
   "source": [
    "# converte a coluna de datas para o tipo datetime\n",
    "#dados['date'] = pd.to_datetime(dados['date'])"
   ]
  },
  {
   "cell_type": "code",
   "execution_count": 60,
   "id": "f58bff5b",
   "metadata": {},
   "outputs": [],
   "source": [
    "# converte a coluna de data em um número correspondente ao dia do ano\n",
    "dados['dias_do_ano'] = pd.to_datetime(dados['date']).dt.dayofyear"
   ]
  },
  {
   "cell_type": "code",
   "execution_count": 61,
   "id": "8fcfdc91",
   "metadata": {},
   "outputs": [],
   "source": [
    "# separa os dados em treinamento e teste\n",
    "dados_treino = dados[dados['date'] < '2018-12-28']\n",
    "dados_teste = dados[dados['date'] >= '2018-12-28']"
   ]
  },
  {
   "cell_type": "code",
   "execution_count": 62,
   "id": "8960d4d3",
   "metadata": {},
   "outputs": [],
   "source": [
    "# seleciona as variáveis de entrada e a variável de saída\n",
    "X_treino = dados_treino[['dias_do_ano', 'feature 1', 'feature 2', 'feature 3', 'feature 4', 'feature 5']].values\n",
    "y_treino = dados_treino['price'].values\n",
    "\n",
    "X_teste = dados_teste[['dias_do_ano', 'feature 1', 'feature 2', 'feature 3', 'feature 4', 'feature 5']].values\n",
    "y_teste = dados_teste['price'].values"
   ]
  },
  {
   "cell_type": "code",
   "execution_count": 63,
   "id": "a7a7e1b2",
   "metadata": {
    "scrolled": true
   },
   "outputs": [
    {
     "data": {
      "text/plain": [
       "LinearRegression()"
      ]
     },
     "execution_count": 63,
     "metadata": {},
     "output_type": "execute_result"
    }
   ],
   "source": [
    "# cria o modelo de regressão linear\n",
    "modelo = LinearRegression()\n",
    "\n",
    "# treina o modelo usando os dados de treinamento\n",
    "modelo.fit(X_treino, y_treino)"
   ]
  },
  {
   "cell_type": "code",
   "execution_count": 66,
   "id": "ad1bcfac",
   "metadata": {},
   "outputs": [],
   "source": [
    "# faz previsões para os próximos dias\n",
    "dias_futuros = pd.date_range(start='2018-12-28', end='2019-01-03')\n",
    "X_futuro = pd.DataFrame({'date': dias_futuros, \n",
    "                         'feature 1': [3.3, 3.4, 3.5, 3.6, 3.7, 3.8, 3.9], \n",
    "                         'feature 2': [3.3, 3.4, 3.5, 3.6, 3.7, 3.8, 3.9], \n",
    "                         'feature 3': [3.3, 3.4, 3.5, 3.6, 3.7, 3.8, 3.9], \n",
    "                         'feature 4': [3.3, 3.4, 3.5, 3.6, 3.7, 3.8, 3.9], \n",
    "                         'feature 5': [3.3, 3.4, 3.5, 3.6, 3.7, 3.8, 3.9]})\n",
    "                    \n",
    "X_futuro['dia_do_ano'] = pd.to_datetime(X_futuro['date']).dt.dayofyear\n",
    "X_futuro = X_futuro[['dia_do_ano', 'feature 1', 'feature 2', 'feature 3', 'feature 4', 'feature 5']].values\n",
    "previsoes = modelo.predict(X_futuro)"
   ]
  },
  {
   "cell_type": "code",
   "execution_count": 67,
   "id": "60361260",
   "metadata": {
    "scrolled": true
   },
   "outputs": [
    {
     "data": {
      "text/html": [
       "<div>\n",
       "<style scoped>\n",
       "    .dataframe tbody tr th:only-of-type {\n",
       "        vertical-align: middle;\n",
       "    }\n",
       "\n",
       "    .dataframe tbody tr th {\n",
       "        vertical-align: top;\n",
       "    }\n",
       "\n",
       "    .dataframe thead th {\n",
       "        text-align: right;\n",
       "    }\n",
       "</style>\n",
       "<table border=\"1\" class=\"dataframe\">\n",
       "  <thead>\n",
       "    <tr style=\"text-align: right;\">\n",
       "      <th></th>\n",
       "      <th>data</th>\n",
       "      <th>previsao</th>\n",
       "    </tr>\n",
       "  </thead>\n",
       "  <tbody>\n",
       "    <tr>\n",
       "      <th>0</th>\n",
       "      <td>2018-12-28</td>\n",
       "      <td>235.755779</td>\n",
       "    </tr>\n",
       "    <tr>\n",
       "      <th>1</th>\n",
       "      <td>2018-12-29</td>\n",
       "      <td>242.015052</td>\n",
       "    </tr>\n",
       "    <tr>\n",
       "      <th>2</th>\n",
       "      <td>2018-12-30</td>\n",
       "      <td>248.274325</td>\n",
       "    </tr>\n",
       "    <tr>\n",
       "      <th>3</th>\n",
       "      <td>2018-12-31</td>\n",
       "      <td>254.533598</td>\n",
       "    </tr>\n",
       "    <tr>\n",
       "      <th>4</th>\n",
       "      <td>2019-01-01</td>\n",
       "      <td>271.080605</td>\n",
       "    </tr>\n",
       "    <tr>\n",
       "      <th>5</th>\n",
       "      <td>2019-01-02</td>\n",
       "      <td>277.339878</td>\n",
       "    </tr>\n",
       "    <tr>\n",
       "      <th>6</th>\n",
       "      <td>2019-01-03</td>\n",
       "      <td>283.599151</td>\n",
       "    </tr>\n",
       "  </tbody>\n",
       "</table>\n",
       "</div>"
      ],
      "text/plain": [
       "        data    previsao\n",
       "0 2018-12-28  235.755779\n",
       "1 2018-12-29  242.015052\n",
       "2 2018-12-30  248.274325\n",
       "3 2018-12-31  254.533598\n",
       "4 2019-01-01  271.080605\n",
       "5 2019-01-02  277.339878\n",
       "6 2019-01-03  283.599151"
      ]
     },
     "execution_count": 67,
     "metadata": {},
     "output_type": "execute_result"
    }
   ],
   "source": [
    "# cria um DataFrame com as previsões\n",
    "df_previsoes = pd.DataFrame({'data': dias_futuros, 'previsao': previsoes})\n",
    "df_previsoes"
   ]
  },
  {
   "cell_type": "code",
   "execution_count": 71,
   "id": "9424d331",
   "metadata": {
    "scrolled": false
   },
   "outputs": [
    {
     "data": {
      "image/png": "[encoded data removed]",
      "text/plain": [
       "<Figure size 432x288 with 1 Axes>"
      ]
     },
     "metadata": {
      "needs_background": "light"
     },
     "output_type": "display_data"
    }
   ],
   "source": [
    "# plota um gráfico com as previsões\n",
    "import matplotlib.pyplot as plt\n",
    "\n",
    "#plt.plot(dados['date'], dados['price'], label='Dados de preço')\n",
    "plt.plot(df_previsoes['data'], df_previsoes['previsao'], label='Previsão')\n",
    "plt.legend()\n",
    "plt.show()"
   ]
  },
  {
   "cell_type": "code",
   "execution_count": null,
   "id": "afb4f8a0",
   "metadata": {},
   "outputs": [],
   "source": []
  }
 ],
 "metadata": {
  "kernelspec": {
   "display_name": "Python 3 (ipykernel)",
   "language": "python",
   "name": "python3"
  },
  "language_info": {
   "codemirror_mode": {
    "name": "ipython",
    "version": 3
   },
   "file_extension": ".py",
   "mimetype": "text/x-python",
   "name": "python",
   "nbconvert_exporter": "python",
   "pygments_lexer": "ipython3",
   "version": "3.8.3"
  }
 },
 "nbformat": 4,
 "nbformat_minor": 5
}
